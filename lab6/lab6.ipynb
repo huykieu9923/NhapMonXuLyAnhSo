{
 "cells": [
  {
   "cell_type": "code",
   "execution_count": 2,
   "id": "1d280cea",
   "metadata": {},
   "outputs": [],
   "source": [
    "#bài 1\n",
    "import cv2\n",
    "import numpy as np\n",
    "\n",
    "img = cv2.imread('exercise/colorful-ripe-tropical-fruits.jpg')\n",
    "\n",
    "if img is None:\n",
    "    print(\"Không tìm thấy ảnh.\")\n",
    "    kiwi = data[470:770, 200:400] \n",
    "    exit()\n",
    "\n",
    "x, y, w, h = 100, 80, 100, 100 \n",
    "kiwi = img[y:y+h, x:x+w]\n",
    "\n",
    "result = img.copy()\n",
    "\n",
    "result[y:y+h, x:x+w] = (255, 255, 255)  \n",
    "\n",
    "new_x = x + 30\n",
    "result[y:y+h, new_x:new_x+w] = kiwi\n",
    "\n",
    "cv2.imshow('Kiwi da tinh tien', result)\n",
    "cv2.waitKey(0)\n",
    "cv2.destroyAllWindows()\n"
   ]
  },
  {
   "cell_type": "code",
   "execution_count": null,
   "id": "99fd17f2",
   "metadata": {},
   "outputs": [
    {
     "ename": "error",
     "evalue": "OpenCV(4.11.0) D:\\a\\opencv-python\\opencv-python\\opencv\\modules\\imgproc\\src\\color.cpp:199: error: (-215:Assertion failed) !_src.empty() in function 'cv::cvtColor'\n",
     "output_type": "error",
     "traceback": [
      "\u001b[1;31m---------------------------------------------------------------------------\u001b[0m",
      "\u001b[1;31merror\u001b[0m                                     Traceback (most recent call last)",
      "Cell \u001b[1;32mIn[5], line 25\u001b[0m\n\u001b[0;32m     22\u001b[0m     \u001b[38;5;28;01mreturn\u001b[39;00m cv2\u001b[38;5;241m.\u001b[39mcvtColor(hsv, cv2\u001b[38;5;241m.\u001b[39mCOLOR_HSV2BGR)\n\u001b[0;32m     24\u001b[0m papaya_changed \u001b[38;5;241m=\u001b[39m change_color(papaya)\n\u001b[1;32m---> 25\u001b[0m watermelon_changed \u001b[38;5;241m=\u001b[39m \u001b[43mchange_color\u001b[49m\u001b[43m(\u001b[49m\u001b[43mwatermelon\u001b[49m\u001b[43m)\u001b[49m\n\u001b[0;32m     27\u001b[0m result[y1:y1\u001b[38;5;241m+\u001b[39mh1, x1:x1\u001b[38;5;241m+\u001b[39mw1] \u001b[38;5;241m=\u001b[39m papaya_changed\n\u001b[0;32m     28\u001b[0m result[y2:y2\u001b[38;5;241m+\u001b[39mh2, x2:x2\u001b[38;5;241m+\u001b[39mw2] \u001b[38;5;241m=\u001b[39m watermelon_changed\n",
      "Cell \u001b[1;32mIn[5], line 20\u001b[0m, in \u001b[0;36mchange_color\u001b[1;34m(bgr_crop)\u001b[0m\n\u001b[0;32m     19\u001b[0m \u001b[38;5;28;01mdef\u001b[39;00m\u001b[38;5;250m \u001b[39m\u001b[38;5;21mchange_color\u001b[39m(bgr_crop):\n\u001b[1;32m---> 20\u001b[0m     hsv \u001b[38;5;241m=\u001b[39m \u001b[43mcv2\u001b[49m\u001b[38;5;241;43m.\u001b[39;49m\u001b[43mcvtColor\u001b[49m\u001b[43m(\u001b[49m\u001b[43mbgr_crop\u001b[49m\u001b[43m,\u001b[49m\u001b[43m \u001b[49m\u001b[43mcv2\u001b[49m\u001b[38;5;241;43m.\u001b[39;49m\u001b[43mCOLOR_BGR2HSV\u001b[49m\u001b[43m)\u001b[49m\n\u001b[0;32m     21\u001b[0m     hsv[\u001b[38;5;241m.\u001b[39m\u001b[38;5;241m.\u001b[39m\u001b[38;5;241m.\u001b[39m, \u001b[38;5;241m0\u001b[39m] \u001b[38;5;241m=\u001b[39m (hsv[\u001b[38;5;241m.\u001b[39m\u001b[38;5;241m.\u001b[39m\u001b[38;5;241m.\u001b[39m, \u001b[38;5;241m0\u001b[39m] \u001b[38;5;241m+\u001b[39m \u001b[38;5;241m90\u001b[39m) \u001b[38;5;241m%\u001b[39m \u001b[38;5;241m180\u001b[39m  \n\u001b[0;32m     22\u001b[0m     \u001b[38;5;28;01mreturn\u001b[39;00m cv2\u001b[38;5;241m.\u001b[39mcvtColor(hsv, cv2\u001b[38;5;241m.\u001b[39mCOLOR_HSV2BGR)\n",
      "\u001b[1;31merror\u001b[0m: OpenCV(4.11.0) D:\\a\\opencv-python\\opencv-python\\opencv\\modules\\imgproc\\src\\color.cpp:199: error: (-215:Assertion failed) !_src.empty() in function 'cv::cvtColor'\n"
     ]
    }
   ],
   "source": [
    "#bài2\n",
    "import cv2\n",
    "import numpy as np\n",
    "\n",
    "img = cv2.imread('exercise/colorful-ripe-tropical-fruits.jpg')\n",
    "\n",
    "if img is None:\n",
    "    print(\"Không tìm thấy ảnh.\")\n",
    "    exit()\n",
    "\n",
    "result = img.copy()\n",
    "\n",
    "x1, y1, w1, h1 = 600, 100, 120, 150\n",
    "papaya = result[y1:y1+h1, x1:x1+w1]\n",
    "\n",
    "x2, y2, w2, h2 = 1200, 200, 130, 140\n",
    "watermelon = result[y2:y2+h2, x2:x2+w2]\n",
    "\n",
    "def change_color(bgr_crop):\n",
    "    hsv = cv2.cvtColor(bgr_crop, cv2.COLOR_BGR2HSV)\n",
    "    hsv[..., 0] = (hsv[..., 0] + 90) % 180  \n",
    "    return cv2.cvtColor(hsv, cv2.COLOR_HSV2BGR)\n",
    "\n",
    "papaya_changed = change_color(papaya)\n",
    "watermelon_changed = change_color(watermelon)\n",
    "\n",
    "result[y1:y1+h1, x1:x1+w1] = papaya_changed\n",
    "result[y2:y2+h2, x2:x2+w2] = watermelon_changed\n",
    "\n",
    "cv2.imshow(\"Doi mau du du va dua hau\", result)\n",
    "cv2.waitKey(0)\n",
    "cv2.destroyAllWindows()\n"
   ]
  }
 ],
 "metadata": {
  "kernelspec": {
   "display_name": "Python 3",
   "language": "python",
   "name": "python3"
  },
  "language_info": {
   "codemirror_mode": {
    "name": "ipython",
    "version": 3
   },
   "file_extension": ".py",
   "mimetype": "text/x-python",
   "name": "python",
   "nbconvert_exporter": "python",
   "pygments_lexer": "ipython3",
   "version": "3.10.11"
  }
 },
 "nbformat": 4,
 "nbformat_minor": 5
}
